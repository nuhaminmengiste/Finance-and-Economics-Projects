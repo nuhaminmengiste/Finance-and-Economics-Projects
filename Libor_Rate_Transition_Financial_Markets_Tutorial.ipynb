{
  "nbformat": 4,
  "nbformat_minor": 0,
  "metadata": {
    "kernelspec": {
      "display_name": "Python 3",
      "language": "python",
      "name": "python3"
    },
    "language_info": {
      "codemirror_mode": {
        "name": "ipython",
        "version": 3
      },
      "file_extension": ".py",
      "mimetype": "text/x-python",
      "name": "python",
      "nbconvert_exporter": "python",
      "pygments_lexer": "ipython3",
      "version": "3.7.6"
    },
    "colab": {
      "name": "Libor Rate Transition - Financial Markets Tutorial.ipynb",
      "provenance": [],
      "include_colab_link": true
    }
  },
  "cells": [
    {
      "cell_type": "markdown",
      "metadata": {
        "id": "view-in-github",
        "colab_type": "text"
      },
      "source": [
        "<a href=\"https://colab.research.google.com/github/nuhaminmengiste/Finance-and-Economics-Projects/blob/master/Libor_Rate_Transition_Financial_Markets_Tutorial.ipynb\" target=\"_parent\"><img src=\"https://colab.research.google.com/assets/colab-badge.svg\" alt=\"Open In Colab\"/></a>"
      ]
    },
    {
      "cell_type": "code",
      "metadata": {
        "id": "gpBzFJQwYfsm",
        "colab_type": "code",
        "colab": {
          "base_uri": "https://localhost:8080/",
          "height": 34
        },
        "outputId": "780f8070-8b47-453b-f238-eff4d48e7a95"
      },
      "source": [
        "!pip install numpy "
      ],
      "execution_count": 20,
      "outputs": [
        {
          "output_type": "stream",
          "text": [
            "Requirement already satisfied: numpy in /usr/local/lib/python3.6/dist-packages (1.18.4)\n"
          ],
          "name": "stdout"
        }
      ]
    },
    {
      "cell_type": "code",
      "metadata": {
        "id": "7IJWXhfqYfs4",
        "colab_type": "code",
        "colab": {}
      },
      "source": [
        "import numpy as np"
      ],
      "execution_count": 0,
      "outputs": []
    },
    {
      "cell_type": "code",
      "metadata": {
        "id": "OF9YQl7IYfs-",
        "colab_type": "code",
        "colab": {}
      },
      "source": [
        "import pandas as pd"
      ],
      "execution_count": 0,
      "outputs": []
    },
    {
      "cell_type": "code",
      "metadata": {
        "id": "fcAGDFZGYftD",
        "colab_type": "code",
        "colab": {
          "base_uri": "https://localhost:8080/",
          "height": 241
        },
        "outputId": "5846753b-aeaf-4260-a6be-2efbddb8af6f"
      },
      "source": [
        "pip install pandas_datareader"
      ],
      "execution_count": 23,
      "outputs": [
        {
          "output_type": "stream",
          "text": [
            "Requirement already satisfied: pandas_datareader in /usr/local/lib/python3.6/dist-packages (0.8.1)\n",
            "Requirement already satisfied: lxml in /usr/local/lib/python3.6/dist-packages (from pandas_datareader) (4.2.6)\n",
            "Requirement already satisfied: pandas>=0.21 in /usr/local/lib/python3.6/dist-packages (from pandas_datareader) (1.0.3)\n",
            "Requirement already satisfied: requests>=2.3.0 in /usr/local/lib/python3.6/dist-packages (from pandas_datareader) (2.23.0)\n",
            "Requirement already satisfied: python-dateutil>=2.6.1 in /usr/local/lib/python3.6/dist-packages (from pandas>=0.21->pandas_datareader) (2.8.1)\n",
            "Requirement already satisfied: numpy>=1.13.3 in /usr/local/lib/python3.6/dist-packages (from pandas>=0.21->pandas_datareader) (1.18.4)\n",
            "Requirement already satisfied: pytz>=2017.2 in /usr/local/lib/python3.6/dist-packages (from pandas>=0.21->pandas_datareader) (2018.9)\n",
            "Requirement already satisfied: chardet<4,>=3.0.2 in /usr/local/lib/python3.6/dist-packages (from requests>=2.3.0->pandas_datareader) (3.0.4)\n",
            "Requirement already satisfied: idna<3,>=2.5 in /usr/local/lib/python3.6/dist-packages (from requests>=2.3.0->pandas_datareader) (2.9)\n",
            "Requirement already satisfied: urllib3!=1.25.0,!=1.25.1,<1.26,>=1.21.1 in /usr/local/lib/python3.6/dist-packages (from requests>=2.3.0->pandas_datareader) (1.24.3)\n",
            "Requirement already satisfied: certifi>=2017.4.17 in /usr/local/lib/python3.6/dist-packages (from requests>=2.3.0->pandas_datareader) (2020.4.5.1)\n",
            "Requirement already satisfied: six>=1.5 in /usr/local/lib/python3.6/dist-packages (from python-dateutil>=2.6.1->pandas>=0.21->pandas_datareader) (1.12.0)\n"
          ],
          "name": "stdout"
        }
      ]
    },
    {
      "cell_type": "code",
      "metadata": {
        "id": "D1pawv14YftJ",
        "colab_type": "code",
        "colab": {}
      },
      "source": [
        "from datetime import date"
      ],
      "execution_count": 0,
      "outputs": []
    },
    {
      "cell_type": "code",
      "metadata": {
        "id": "YIOuRzlQYftO",
        "colab_type": "code",
        "colab": {}
      },
      "source": [
        "import pandas_datareader as pdr"
      ],
      "execution_count": 0,
      "outputs": []
    },
    {
      "cell_type": "code",
      "metadata": {
        "id": "g1KEdxgGYftT",
        "colab_type": "code",
        "colab": {}
      },
      "source": [
        "import matplotlib.pyplot as plt "
      ],
      "execution_count": 0,
      "outputs": []
    },
    {
      "cell_type": "code",
      "metadata": {
        "id": "plUJh2zyYftZ",
        "colab_type": "code",
        "colab": {}
      },
      "source": [
        "\n",
        "start = date(2019, 9, 10 ) #from sep 13 to oct 19 to demonstrate repo rate surge\n",
        "end = date(2019, 10, 10)"
      ],
      "execution_count": 0,
      "outputs": []
    },
    {
      "cell_type": "code",
      "metadata": {
        "id": "bFM-wAK2Yfte",
        "colab_type": "code",
        "colab": {}
      },
      "source": [
        "sofr = pdr.get_data_fred('SOFR', start, end) #reading fred SOFR data with the SOFR series code"
      ],
      "execution_count": 0,
      "outputs": []
    },
    {
      "cell_type": "code",
      "metadata": {
        "id": "jsJWjgqfYftj",
        "colab_type": "code",
        "colab": {
          "base_uri": "https://localhost:8080/",
          "height": 235
        },
        "outputId": "3120c6fa-3166-42f0-8d0c-efeb7daa29d2"
      },
      "source": [
        "sofr.head() "
      ],
      "execution_count": 29,
      "outputs": [
        {
          "output_type": "execute_result",
          "data": {
            "text/html": [
              "<div>\n",
              "<style scoped>\n",
              "    .dataframe tbody tr th:only-of-type {\n",
              "        vertical-align: middle;\n",
              "    }\n",
              "\n",
              "    .dataframe tbody tr th {\n",
              "        vertical-align: top;\n",
              "    }\n",
              "\n",
              "    .dataframe thead th {\n",
              "        text-align: right;\n",
              "    }\n",
              "</style>\n",
              "<table border=\"1\" class=\"dataframe\">\n",
              "  <thead>\n",
              "    <tr style=\"text-align: right;\">\n",
              "      <th></th>\n",
              "      <th>SOFR</th>\n",
              "    </tr>\n",
              "    <tr>\n",
              "      <th>DATE</th>\n",
              "      <th></th>\n",
              "    </tr>\n",
              "  </thead>\n",
              "  <tbody>\n",
              "    <tr>\n",
              "      <th>2019-09-10</th>\n",
              "      <td>2.14</td>\n",
              "    </tr>\n",
              "    <tr>\n",
              "      <th>2019-09-11</th>\n",
              "      <td>2.15</td>\n",
              "    </tr>\n",
              "    <tr>\n",
              "      <th>2019-09-12</th>\n",
              "      <td>2.20</td>\n",
              "    </tr>\n",
              "    <tr>\n",
              "      <th>2019-09-13</th>\n",
              "      <td>2.20</td>\n",
              "    </tr>\n",
              "    <tr>\n",
              "      <th>2019-09-16</th>\n",
              "      <td>2.43</td>\n",
              "    </tr>\n",
              "  </tbody>\n",
              "</table>\n",
              "</div>"
            ],
            "text/plain": [
              "            SOFR\n",
              "DATE            \n",
              "2019-09-10  2.14\n",
              "2019-09-11  2.15\n",
              "2019-09-12  2.20\n",
              "2019-09-13  2.20\n",
              "2019-09-16  2.43"
            ]
          },
          "metadata": {
            "tags": []
          },
          "execution_count": 29
        }
      ]
    },
    {
      "cell_type": "code",
      "metadata": {
        "id": "NBeWD6AYYftn",
        "colab_type": "code",
        "colab": {
          "base_uri": "https://localhost:8080/",
          "height": 136
        },
        "outputId": "5a60db7f-512d-482c-db98-6d0c3948a309"
      },
      "source": [
        "sofr.index # indexes are usually numerical numbers in ascending order starting from 0 to help you pick specific elements\n",
        "           # usually: sofr[0]\n",
        "           # here, indexes are the dates"
      ],
      "execution_count": 30,
      "outputs": [
        {
          "output_type": "execute_result",
          "data": {
            "text/plain": [
              "DatetimeIndex(['2019-09-10', '2019-09-11', '2019-09-12', '2019-09-13',\n",
              "               '2019-09-16', '2019-09-17', '2019-09-18', '2019-09-19',\n",
              "               '2019-09-20', '2019-09-23', '2019-09-24', '2019-09-25',\n",
              "               '2019-09-26', '2019-09-27', '2019-09-30', '2019-10-01',\n",
              "               '2019-10-02', '2019-10-03', '2019-10-04', '2019-10-07',\n",
              "               '2019-10-08', '2019-10-09', '2019-10-10'],\n",
              "              dtype='datetime64[ns]', name='DATE', freq=None)"
            ]
          },
          "metadata": {
            "tags": []
          },
          "execution_count": 30
        }
      ]
    },
    {
      "cell_type": "code",
      "metadata": {
        "id": "ONgoIaInYftq",
        "colab_type": "code",
        "colab": {
          "base_uri": "https://localhost:8080/",
          "height": 153
        },
        "outputId": "f69418b1-6ea6-4239-8deb-f0a4f124dc9e"
      },
      "source": [
        "sofr.info() #exploring the dataframe"
      ],
      "execution_count": 31,
      "outputs": [
        {
          "output_type": "stream",
          "text": [
            "<class 'pandas.core.frame.DataFrame'>\n",
            "DatetimeIndex: 23 entries, 2019-09-10 to 2019-10-10\n",
            "Data columns (total 1 columns):\n",
            " #   Column  Non-Null Count  Dtype  \n",
            "---  ------  --------------  -----  \n",
            " 0   SOFR    23 non-null     float64\n",
            "dtypes: float64(1)\n",
            "memory usage: 368.0 bytes\n"
          ],
          "name": "stdout"
        }
      ]
    },
    {
      "cell_type": "code",
      "metadata": {
        "id": "l8Q2bJg-Yftt",
        "colab_type": "code",
        "colab": {
          "base_uri": "https://localhost:8080/",
          "height": 494
        },
        "outputId": "99c3b834-9146-45d4-9ae5-968297c8caae"
      },
      "source": [
        "plt.figure(figsize=(20,10)) #width and height of figure respectively\n",
        "plt.plot(sofr.index, sofr.SOFR, color ='green')  #creating the chars with x as the date which is an index, and the y as the SOFR\n",
        "plt.title('September Surge of the Secured Overnight Financing Rate', fontsize=15)\n",
        "plt.ylabel('Percent', fontsize=15)\n",
        "#plt.axvline(sofr.index[5],color='red') # vertical line on the chart \n",
        "#plt.axhline(3.5) # horizontal line on the chart \n",
        "plt.show()"
      ],
      "execution_count": 32,
      "outputs": [
        {
          "output_type": "display_data",
          "data": {
            "image/png": "[encoded data removed]",
            "text/plain": [
              "<Figure size 1440x720 with 1 Axes>"
            ]
          },
          "metadata": {
            "tags": [],
            "needs_background": "light"
          }
        }
      ]
    },
    {
      "cell_type": "code",
      "metadata": {
        "id": "umHCwzihYftw",
        "colab_type": "code",
        "colab": {}
      },
      "source": [
        "volatility = pd.read_excel('sofr and libor.xlsx', sheet_name = 'Geometric Mean', na_values = 'n/a')  #reading the date of the SOFR and libor rates and their geometric mean\n"
      ],
      "execution_count": 0,
      "outputs": []
    },
    {
      "cell_type": "code",
      "metadata": {
        "id": "4Tk0nCybYft2",
        "colab_type": "code",
        "colab": {
          "base_uri": "https://localhost:8080/",
          "height": 442
        },
        "outputId": "fb7686bb-077b-4bd9-faff-31aef1ba329d"
      },
      "source": [
        "volatility.head() #exploring\n",
        "\n"
      ],
      "execution_count": 34,
      "outputs": [
        {
          "output_type": "execute_result",
          "data": {
            "text/html": [
              "<div>\n",
              "<style scoped>\n",
              "    .dataframe tbody tr th:only-of-type {\n",
              "        vertical-align: middle;\n",
              "    }\n",
              "\n",
              "    .dataframe tbody tr th {\n",
              "        vertical-align: top;\n",
              "    }\n",
              "\n",
              "    .dataframe thead th {\n",
              "        text-align: right;\n",
              "    }\n",
              "</style>\n",
              "<table border=\"1\" class=\"dataframe\">\n",
              "  <thead>\n",
              "    <tr style=\"text-align: right;\">\n",
              "      <th></th>\n",
              "      <th>3-Month Geometric Average of Overnight Treasury Repo Rates</th>\n",
              "      <th>Unnamed: 1</th>\n",
              "      <th>Unnamed: 2</th>\n",
              "      <th>Unnamed: 3</th>\n",
              "      <th>Unnamed: 4</th>\n",
              "      <th>Unnamed: 5</th>\n",
              "      <th>Unnamed: 6</th>\n",
              "      <th>Unnamed: 7</th>\n",
              "    </tr>\n",
              "  </thead>\n",
              "  <tbody>\n",
              "    <tr>\n",
              "      <th>0</th>\n",
              "      <td>Date</td>\n",
              "      <td>Tri-Party General Collateral Rate</td>\n",
              "      <td>Broad General Collateral Rate</td>\n",
              "      <td>Secured Overnight Financing Rate</td>\n",
              "      <td>NaN</td>\n",
              "      <td>Series</td>\n",
              "      <td>Description</td>\n",
              "      <td>Units</td>\n",
              "    </tr>\n",
              "    <tr>\n",
              "      <th>1</th>\n",
              "      <td>2014-11-20 00:00:00</td>\n",
              "      <td>5</td>\n",
              "      <td>5</td>\n",
              "      <td>6</td>\n",
              "      <td>NaN</td>\n",
              "      <td>Tri-Party General Collateral Rate</td>\n",
              "      <td>Time-series of overnight Treasury Tri-Party ex...</td>\n",
              "      <td>Basis points</td>\n",
              "    </tr>\n",
              "    <tr>\n",
              "      <th>2</th>\n",
              "      <td>2014-11-21 00:00:00</td>\n",
              "      <td>5</td>\n",
              "      <td>5</td>\n",
              "      <td>6</td>\n",
              "      <td>NaN</td>\n",
              "      <td>Broad General Collateral Rate</td>\n",
              "      <td>Time-series of overnight Treasury Tri-Party in...</td>\n",
              "      <td>Basis points</td>\n",
              "    </tr>\n",
              "    <tr>\n",
              "      <th>3</th>\n",
              "      <td>2014-11-24 00:00:00</td>\n",
              "      <td>5</td>\n",
              "      <td>5</td>\n",
              "      <td>6</td>\n",
              "      <td>NaN</td>\n",
              "      <td>Secured Overnight Financing Rate</td>\n",
              "      <td>Time-series of overnight Treasury Tri-Party in...</td>\n",
              "      <td>Basis points</td>\n",
              "    </tr>\n",
              "    <tr>\n",
              "      <th>4</th>\n",
              "      <td>2014-11-25 00:00:00</td>\n",
              "      <td>5</td>\n",
              "      <td>5</td>\n",
              "      <td>6</td>\n",
              "      <td>NaN</td>\n",
              "      <td>NaN</td>\n",
              "      <td>NaN</td>\n",
              "      <td>NaN</td>\n",
              "    </tr>\n",
              "  </tbody>\n",
              "</table>\n",
              "</div>"
            ],
            "text/plain": [
              "  3-Month Geometric Average of Overnight Treasury Repo Rates  ...    Unnamed: 7\n",
              "0                                               Date          ...         Units\n",
              "1                                2014-11-20 00:00:00          ...  Basis points\n",
              "2                                2014-11-21 00:00:00          ...  Basis points\n",
              "3                                2014-11-24 00:00:00          ...  Basis points\n",
              "4                                2014-11-25 00:00:00          ...           NaN\n",
              "\n",
              "[5 rows x 8 columns]"
            ]
          },
          "metadata": {
            "tags": []
          },
          "execution_count": 34
        }
      ]
    },
    {
      "cell_type": "code",
      "metadata": {
        "id": "xJsZikN0Yft4",
        "colab_type": "code",
        "colab": {
          "base_uri": "https://localhost:8080/",
          "height": 966
        },
        "outputId": "1d690470-f8c0-40c0-c3f0-d6a2ffe712e6"
      },
      "source": [
        "volatility_new = volatility.rename(columns={ \"3-Month Geometric Average of Overnight Treasury Repo Rates\": \"DATE\", \"Unnamed: 1\": \"Tri-Party_General_Collateral_Rate\", \"Unnamed: 2\": \"Broad_General_Collateral_Rate\", \"Unnamed: 3\": \"SOFR\"})\n",
        "# change the column names \n",
        "volatility_new\n"
      ],
      "execution_count": 35,
      "outputs": [
        {
          "output_type": "execute_result",
          "data": {
            "text/html": [
              "<div>\n",
              "<style scoped>\n",
              "    .dataframe tbody tr th:only-of-type {\n",
              "        vertical-align: middle;\n",
              "    }\n",
              "\n",
              "    .dataframe tbody tr th {\n",
              "        vertical-align: top;\n",
              "    }\n",
              "\n",
              "    .dataframe thead th {\n",
              "        text-align: right;\n",
              "    }\n",
              "</style>\n",
              "<table border=\"1\" class=\"dataframe\">\n",
              "  <thead>\n",
              "    <tr style=\"text-align: right;\">\n",
              "      <th></th>\n",
              "      <th>DATE</th>\n",
              "      <th>Tri-Party_General_Collateral_Rate</th>\n",
              "      <th>Broad_General_Collateral_Rate</th>\n",
              "      <th>SOFR</th>\n",
              "      <th>Unnamed: 4</th>\n",
              "      <th>Unnamed: 5</th>\n",
              "      <th>Unnamed: 6</th>\n",
              "      <th>Unnamed: 7</th>\n",
              "    </tr>\n",
              "  </thead>\n",
              "  <tbody>\n",
              "    <tr>\n",
              "      <th>0</th>\n",
              "      <td>Date</td>\n",
              "      <td>Tri-Party General Collateral Rate</td>\n",
              "      <td>Broad General Collateral Rate</td>\n",
              "      <td>Secured Overnight Financing Rate</td>\n",
              "      <td>NaN</td>\n",
              "      <td>Series</td>\n",
              "      <td>Description</td>\n",
              "      <td>Units</td>\n",
              "    </tr>\n",
              "    <tr>\n",
              "      <th>1</th>\n",
              "      <td>2014-11-20 00:00:00</td>\n",
              "      <td>5</td>\n",
              "      <td>5</td>\n",
              "      <td>6</td>\n",
              "      <td>NaN</td>\n",
              "      <td>Tri-Party General Collateral Rate</td>\n",
              "      <td>Time-series of overnight Treasury Tri-Party ex...</td>\n",
              "      <td>Basis points</td>\n",
              "    </tr>\n",
              "    <tr>\n",
              "      <th>2</th>\n",
              "      <td>2014-11-21 00:00:00</td>\n",
              "      <td>5</td>\n",
              "      <td>5</td>\n",
              "      <td>6</td>\n",
              "      <td>NaN</td>\n",
              "      <td>Broad General Collateral Rate</td>\n",
              "      <td>Time-series of overnight Treasury Tri-Party in...</td>\n",
              "      <td>Basis points</td>\n",
              "    </tr>\n",
              "    <tr>\n",
              "      <th>3</th>\n",
              "      <td>2014-11-24 00:00:00</td>\n",
              "      <td>5</td>\n",
              "      <td>5</td>\n",
              "      <td>6</td>\n",
              "      <td>NaN</td>\n",
              "      <td>Secured Overnight Financing Rate</td>\n",
              "      <td>Time-series of overnight Treasury Tri-Party in...</td>\n",
              "      <td>Basis points</td>\n",
              "    </tr>\n",
              "    <tr>\n",
              "      <th>4</th>\n",
              "      <td>2014-11-25 00:00:00</td>\n",
              "      <td>5</td>\n",
              "      <td>5</td>\n",
              "      <td>6</td>\n",
              "      <td>NaN</td>\n",
              "      <td>NaN</td>\n",
              "      <td>NaN</td>\n",
              "      <td>NaN</td>\n",
              "    </tr>\n",
              "    <tr>\n",
              "      <th>...</th>\n",
              "      <td>...</td>\n",
              "      <td>...</td>\n",
              "      <td>...</td>\n",
              "      <td>...</td>\n",
              "      <td>...</td>\n",
              "      <td>...</td>\n",
              "      <td>...</td>\n",
              "      <td>...</td>\n",
              "    </tr>\n",
              "    <tr>\n",
              "      <th>722</th>\n",
              "      <td>2017-10-11 00:00:00</td>\n",
              "      <td>102</td>\n",
              "      <td>102</td>\n",
              "      <td>105</td>\n",
              "      <td>NaN</td>\n",
              "      <td>NaN</td>\n",
              "      <td>NaN</td>\n",
              "      <td>NaN</td>\n",
              "    </tr>\n",
              "    <tr>\n",
              "      <th>723</th>\n",
              "      <td>2017-10-12 00:00:00</td>\n",
              "      <td>102</td>\n",
              "      <td>102</td>\n",
              "      <td>105</td>\n",
              "      <td>NaN</td>\n",
              "      <td>NaN</td>\n",
              "      <td>NaN</td>\n",
              "      <td>NaN</td>\n",
              "    </tr>\n",
              "    <tr>\n",
              "      <th>724</th>\n",
              "      <td>2017-10-13 00:00:00</td>\n",
              "      <td>102</td>\n",
              "      <td>102</td>\n",
              "      <td>105</td>\n",
              "      <td>NaN</td>\n",
              "      <td>NaN</td>\n",
              "      <td>NaN</td>\n",
              "      <td>NaN</td>\n",
              "    </tr>\n",
              "    <tr>\n",
              "      <th>725</th>\n",
              "      <td>2017-10-16 00:00:00</td>\n",
              "      <td>102</td>\n",
              "      <td>102</td>\n",
              "      <td>105</td>\n",
              "      <td>NaN</td>\n",
              "      <td>NaN</td>\n",
              "      <td>NaN</td>\n",
              "      <td>NaN</td>\n",
              "    </tr>\n",
              "    <tr>\n",
              "      <th>726</th>\n",
              "      <td>2017-10-17 00:00:00</td>\n",
              "      <td>102</td>\n",
              "      <td>102</td>\n",
              "      <td>105</td>\n",
              "      <td>NaN</td>\n",
              "      <td>NaN</td>\n",
              "      <td>NaN</td>\n",
              "      <td>NaN</td>\n",
              "    </tr>\n",
              "  </tbody>\n",
              "</table>\n",
              "<p>727 rows × 8 columns</p>\n",
              "</div>"
            ],
            "text/plain": [
              "                    DATE  ...    Unnamed: 7\n",
              "0                   Date  ...         Units\n",
              "1    2014-11-20 00:00:00  ...  Basis points\n",
              "2    2014-11-21 00:00:00  ...  Basis points\n",
              "3    2014-11-24 00:00:00  ...  Basis points\n",
              "4    2014-11-25 00:00:00  ...           NaN\n",
              "..                   ...  ...           ...\n",
              "722  2017-10-11 00:00:00  ...           NaN\n",
              "723  2017-10-12 00:00:00  ...           NaN\n",
              "724  2017-10-13 00:00:00  ...           NaN\n",
              "725  2017-10-16 00:00:00  ...           NaN\n",
              "726  2017-10-17 00:00:00  ...           NaN\n",
              "\n",
              "[727 rows x 8 columns]"
            ]
          },
          "metadata": {
            "tags": []
          },
          "execution_count": 35
        }
      ]
    },
    {
      "cell_type": "code",
      "metadata": {
        "id": "R9HBiks_Yft6",
        "colab_type": "code",
        "colab": {}
      },
      "source": [
        "volatility_new2 = volatility_new.drop([0]) #dropped the first row, so now index starts with [1]\n"
      ],
      "execution_count": 0,
      "outputs": []
    },
    {
      "cell_type": "code",
      "metadata": {
        "scrolled": true,
        "id": "gklRi-uVYft9",
        "colab_type": "code",
        "colab": {}
      },
      "source": [
        "volatility_new3 = volatility_new2.reset_index() #need index reframing b/c it starts from the title instead of the first row \n"
      ],
      "execution_count": 0,
      "outputs": []
    },
    {
      "cell_type": "code",
      "metadata": {
        "id": "56e13uVFYfuA",
        "colab_type": "code",
        "colab": {}
      },
      "source": [
        "volatility_new3.set_index('DATE', inplace=True, drop=True)   #making the timestamp an index to make it similar to data structure of Libor fred data\n"
      ],
      "execution_count": 0,
      "outputs": []
    },
    {
      "cell_type": "code",
      "metadata": {
        "id": "KljaVqM7YfuC",
        "colab_type": "code",
        "colab": {
          "base_uri": "https://localhost:8080/",
          "height": 337
        },
        "outputId": "0540461e-2c5f-463f-9ba9-9e5862089bc1"
      },
      "source": [
        "volatility_new3.tail() #erase, just for checking purposes"
      ],
      "execution_count": 39,
      "outputs": [
        {
          "output_type": "execute_result",
          "data": {
            "text/html": [
              "<div>\n",
              "<style scoped>\n",
              "    .dataframe tbody tr th:only-of-type {\n",
              "        vertical-align: middle;\n",
              "    }\n",
              "\n",
              "    .dataframe tbody tr th {\n",
              "        vertical-align: top;\n",
              "    }\n",
              "\n",
              "    .dataframe thead th {\n",
              "        text-align: right;\n",
              "    }\n",
              "</style>\n",
              "<table border=\"1\" class=\"dataframe\">\n",
              "  <thead>\n",
              "    <tr style=\"text-align: right;\">\n",
              "      <th></th>\n",
              "      <th>index</th>\n",
              "      <th>Tri-Party_General_Collateral_Rate</th>\n",
              "      <th>Broad_General_Collateral_Rate</th>\n",
              "      <th>SOFR</th>\n",
              "      <th>Unnamed: 4</th>\n",
              "      <th>Unnamed: 5</th>\n",
              "      <th>Unnamed: 6</th>\n",
              "      <th>Unnamed: 7</th>\n",
              "    </tr>\n",
              "    <tr>\n",
              "      <th>DATE</th>\n",
              "      <th></th>\n",
              "      <th></th>\n",
              "      <th></th>\n",
              "      <th></th>\n",
              "      <th></th>\n",
              "      <th></th>\n",
              "      <th></th>\n",
              "      <th></th>\n",
              "    </tr>\n",
              "  </thead>\n",
              "  <tbody>\n",
              "    <tr>\n",
              "      <th>2017-10-11</th>\n",
              "      <td>722</td>\n",
              "      <td>102</td>\n",
              "      <td>102</td>\n",
              "      <td>105</td>\n",
              "      <td>NaN</td>\n",
              "      <td>NaN</td>\n",
              "      <td>NaN</td>\n",
              "      <td>NaN</td>\n",
              "    </tr>\n",
              "    <tr>\n",
              "      <th>2017-10-12</th>\n",
              "      <td>723</td>\n",
              "      <td>102</td>\n",
              "      <td>102</td>\n",
              "      <td>105</td>\n",
              "      <td>NaN</td>\n",
              "      <td>NaN</td>\n",
              "      <td>NaN</td>\n",
              "      <td>NaN</td>\n",
              "    </tr>\n",
              "    <tr>\n",
              "      <th>2017-10-13</th>\n",
              "      <td>724</td>\n",
              "      <td>102</td>\n",
              "      <td>102</td>\n",
              "      <td>105</td>\n",
              "      <td>NaN</td>\n",
              "      <td>NaN</td>\n",
              "      <td>NaN</td>\n",
              "      <td>NaN</td>\n",
              "    </tr>\n",
              "    <tr>\n",
              "      <th>2017-10-16</th>\n",
              "      <td>725</td>\n",
              "      <td>102</td>\n",
              "      <td>102</td>\n",
              "      <td>105</td>\n",
              "      <td>NaN</td>\n",
              "      <td>NaN</td>\n",
              "      <td>NaN</td>\n",
              "      <td>NaN</td>\n",
              "    </tr>\n",
              "    <tr>\n",
              "      <th>2017-10-17</th>\n",
              "      <td>726</td>\n",
              "      <td>102</td>\n",
              "      <td>102</td>\n",
              "      <td>105</td>\n",
              "      <td>NaN</td>\n",
              "      <td>NaN</td>\n",
              "      <td>NaN</td>\n",
              "      <td>NaN</td>\n",
              "    </tr>\n",
              "  </tbody>\n",
              "</table>\n",
              "</div>"
            ],
            "text/plain": [
              "            index Tri-Party_General_Collateral_Rate  ... Unnamed: 6 Unnamed: 7\n",
              "DATE                                                 ...                      \n",
              "2017-10-11    722                               102  ...        NaN        NaN\n",
              "2017-10-12    723                               102  ...        NaN        NaN\n",
              "2017-10-13    724                               102  ...        NaN        NaN\n",
              "2017-10-16    725                               102  ...        NaN        NaN\n",
              "2017-10-17    726                               102  ...        NaN        NaN\n",
              "\n",
              "[5 rows x 8 columns]"
            ]
          },
          "metadata": {
            "tags": []
          },
          "execution_count": 39
        }
      ]
    },
    {
      "cell_type": "code",
      "metadata": {
        "id": "6Xw1HDE-YfuE",
        "colab_type": "code",
        "colab": {}
      },
      "source": [
        "\n",
        "start_date = date(2014,11,20) #aligning date with corresponding SOFR date collected by the https://www.sec.gov/spotlight/fixed-income-advisory-committee/arrc-second-report-041519.pdf\n",
        "end_date = date(2017,10,17)\n"
      ],
      "execution_count": 0,
      "outputs": []
    },
    {
      "cell_type": "code",
      "metadata": {
        "id": "kfGa_dUEYfuG",
        "colab_type": "code",
        "colab": {}
      },
      "source": [
        "Libor = pdr.get_data_fred( 'USD3MTD156N', start_date, end_date) #getting 3-month libor based on U.S. Dollar "
      ],
      "execution_count": 0,
      "outputs": []
    },
    {
      "cell_type": "code",
      "metadata": {
        "id": "uyCQiTOmYfuI",
        "colab_type": "code",
        "colab": {}
      },
      "source": [
        "Libor = Libor.rename(columns={'USD3MTD156N': 'LIBOR'})"
      ],
      "execution_count": 0,
      "outputs": []
    },
    {
      "cell_type": "code",
      "metadata": {
        "id": "sL9TPD5lYfuK",
        "colab_type": "code",
        "colab": {}
      },
      "source": [
        "SOFR_Libor = pd.concat([volatility_new3,Libor], axis = 1) #horizontal stacking of the SOFR and Libor dataframes for plotting purposes"
      ],
      "execution_count": 0,
      "outputs": []
    },
    {
      "cell_type": "code",
      "metadata": {
        "id": "RG2-4eZAYfuN",
        "colab_type": "code",
        "colab": {
          "base_uri": "https://localhost:8080/",
          "height": 391
        },
        "outputId": "f2b1f5f6-b2ea-40a1-b6f1-e8f966822386"
      },
      "source": [
        "SOFR_Libor['SOFR'].head(20) #checking the SOFR column, seems like numbers should be converted into decimal points to match LIBOR column"
      ],
      "execution_count": 44,
      "outputs": [
        {
          "output_type": "execute_result",
          "data": {
            "text/plain": [
              "DATE\n",
              "2014-11-20      6\n",
              "2014-11-21      6\n",
              "2014-11-24      6\n",
              "2014-11-25      6\n",
              "2014-11-26      6\n",
              "2014-11-27    NaN\n",
              "2014-11-28      6\n",
              "2014-12-01      6\n",
              "2014-12-02      6\n",
              "2014-12-03      6\n",
              "2014-12-04      6\n",
              "2014-12-05      7\n",
              "2014-12-08      7\n",
              "2014-12-09      7\n",
              "2014-12-10      7\n",
              "2014-12-11      7\n",
              "2014-12-12      7\n",
              "2014-12-15      7\n",
              "2014-12-16      7\n",
              "2014-12-17      7\n",
              "Freq: B, Name: SOFR, dtype: object"
            ]
          },
          "metadata": {
            "tags": []
          },
          "execution_count": 44
        }
      ]
    },
    {
      "cell_type": "code",
      "metadata": {
        "id": "Jd9mOC9JYfuP",
        "colab_type": "code",
        "colab": {
          "base_uri": "https://localhost:8080/",
          "height": 391
        },
        "outputId": "bb729bc7-8f71-45f1-c61a-8ab83096d8a1"
      },
      "source": [
        "SOFR_Libor['SOFR'] = SOFR_Libor['SOFR'].astype(float)  #changing the dtype of SOFR column to float so I can divide by 100 and round to 2 dp\n",
        "SOFR_Libor['SOFR'] = SOFR_Libor['SOFR'].div(100).round(2) #dividing SOFR column by 100, then rounding to 2 decimal points \n",
        "SOFR_Libor['SOFR'].head(20) #checking the new SOFR column "
      ],
      "execution_count": 45,
      "outputs": [
        {
          "output_type": "execute_result",
          "data": {
            "text/plain": [
              "DATE\n",
              "2014-11-20    0.06\n",
              "2014-11-21    0.06\n",
              "2014-11-24    0.06\n",
              "2014-11-25    0.06\n",
              "2014-11-26    0.06\n",
              "2014-11-27     NaN\n",
              "2014-11-28    0.06\n",
              "2014-12-01    0.06\n",
              "2014-12-02    0.06\n",
              "2014-12-03    0.06\n",
              "2014-12-04    0.06\n",
              "2014-12-05    0.07\n",
              "2014-12-08    0.07\n",
              "2014-12-09    0.07\n",
              "2014-12-10    0.07\n",
              "2014-12-11    0.07\n",
              "2014-12-12    0.07\n",
              "2014-12-15    0.07\n",
              "2014-12-16    0.07\n",
              "2014-12-17    0.07\n",
              "Freq: B, Name: SOFR, dtype: float64"
            ]
          },
          "metadata": {
            "tags": []
          },
          "execution_count": 45
        }
      ]
    },
    {
      "cell_type": "code",
      "metadata": {
        "id": "Sesm25EmYfuT",
        "colab_type": "code",
        "colab": {
          "base_uri": "https://localhost:8080/",
          "height": 513
        },
        "outputId": "f1962c63-e957-4aa0-dd15-59e8c55707b2"
      },
      "source": [
        "plt.figure(figsize=(20,10)) #plt. is best for more flexible editing of individual features \n",
        "plt.plot(SOFR_Libor.index, SOFR_Libor['SOFR'], label='3-month geometric mean of SOFR', color = 'green')\n",
        "plt.plot(SOFR_Libor.index, SOFR_Libor['LIBOR'], label='Libor', color = 'orange')\n",
        "plt.xlabel('DATE')\n",
        "plt.title('Averages of SOFR are Less Volatile than LIBOR', fontsize = 15)\n",
        "plt.legend(loc='best', fontsize=15) \n",
        "plt.show()"
      ],
      "execution_count": 46,
      "outputs": [
        {
          "output_type": "display_data",
          "data": {
            "image/png": "[encoded data removed]",
            "text/plain": [
              "<Figure size 1440x720 with 1 Axes>"
            ]
          },
          "metadata": {
            "tags": [],
            "needs_background": "light"
          }
        }
      ]
    },
    {
      "cell_type": "code",
      "metadata": {
        "id": "AFPBBWMzYfuW",
        "colab_type": "code",
        "colab": {}
      },
      "source": [
        ""
      ],
      "execution_count": 0,
      "outputs": []
    }
  ]
}