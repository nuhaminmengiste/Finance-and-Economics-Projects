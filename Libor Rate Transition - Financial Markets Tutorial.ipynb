{
 "cells": [
  {
   "cell_type": "code",
   "execution_count": 4,
   "metadata": {},
   "outputs": [
    {
     "name": "stdout",
     "output_type": "stream",
     "text": [
      "Requirement already satisfied: numpy in c:\\users\\nuham\\anaconda3\\lib\\site-packages (1.18.1)\n"
     ]
    }
   ],
   "source": [
    "!pip install numpy "
   ]
  },
  {
   "cell_type": "code",
   "execution_count": 5,
   "metadata": {},
   "outputs": [],
   "source": [
    "import numpy as np"
   ]
  },
  {
   "cell_type": "code",
   "execution_count": 6,
   "metadata": {},
   "outputs": [],
   "source": [
    "import pandas as pd"
   ]
  },
  {
   "cell_type": "code",
   "execution_count": 7,
   "metadata": {},
   "outputs": [
    {
     "name": "stdout",
     "output_type": "stream",
     "text": [
      "Requirement already satisfied: pandas_datareader in c:\\users\\nuham\\anaconda3\\lib\\site-packages (0.8.1)\n",
      "Requirement already satisfied: pandas>=0.21 in c:\\users\\nuham\\anaconda3\\lib\\site-packages (from pandas_datareader) (1.0.1)\n",
      "Requirement already satisfied: lxml in c:\\users\\nuham\\anaconda3\\lib\\site-packages (from pandas_datareader) (4.5.0)\n",
      "Requirement already satisfied: requests>=2.3.0 in c:\\users\\nuham\\anaconda3\\lib\\site-packages (from pandas_datareader) (2.22.0)\n",
      "Requirement already satisfied: numpy>=1.13.3 in c:\\users\\nuham\\anaconda3\\lib\\site-packages (from pandas>=0.21->pandas_datareader) (1.18.1)\n",
      "Requirement already satisfied: python-dateutil>=2.6.1 in c:\\users\\nuham\\anaconda3\\lib\\site-packages (from pandas>=0.21->pandas_datareader) (2.8.1)\n",
      "Requirement already satisfied: pytz>=2017.2 in c:\\users\\nuham\\anaconda3\\lib\\site-packages (from pandas>=0.21->pandas_datareader) (2019.3)\n",
      "Requirement already satisfied: urllib3!=1.25.0,!=1.25.1,<1.26,>=1.21.1 in c:\\users\\nuham\\anaconda3\\lib\\site-packages (from requests>=2.3.0->pandas_datareader) (1.25.8)\n",
      "Requirement already satisfied: idna<2.9,>=2.5 in c:\\users\\nuham\\anaconda3\\lib\\site-packages (from requests>=2.3.0->pandas_datareader) (2.8)\n",
      "Requirement already satisfied: chardet<3.1.0,>=3.0.2 in c:\\users\\nuham\\anaconda3\\lib\\site-packages (from requests>=2.3.0->pandas_datareader) (3.0.4)\n",
      "Requirement already satisfied: certifi>=2017.4.17 in c:\\users\\nuham\\anaconda3\\lib\\site-packages (from requests>=2.3.0->pandas_datareader) (2019.11.28)\n",
      "Requirement already satisfied: six>=1.5 in c:\\users\\nuham\\anaconda3\\lib\\site-packages (from python-dateutil>=2.6.1->pandas>=0.21->pandas_datareader) (1.14.0)\n",
      "Note: you may need to restart the kernel to use updated packages.\n"
     ]
    }
   ],
   "source": [
    "pip install pandas_datareader"
   ]
  },
  {
   "cell_type": "code",
   "execution_count": 8,
   "metadata": {},
   "outputs": [],
   "source": [
    "from datetime import date"
   ]
  },
  {
   "cell_type": "code",
   "execution_count": 9,
   "metadata": {},
   "outputs": [
    {
     "name": "stderr",
     "output_type": "stream",
     "text": [
      "C:\\Users\\nuham\\anaconda3\\lib\\site-packages\\pandas_datareader\\compat\\__init__.py:7: FutureWarning: pandas.util.testing is deprecated. Use the functions in the public API at pandas.testing instead.\n",
      "  from pandas.util.testing import assert_frame_equal\n"
     ]
    }
   ],
   "source": [
    "import pandas_datareader as pdr"
   ]
  },
  {
   "cell_type": "code",
   "execution_count": 10,
   "metadata": {},
   "outputs": [],
   "source": [
    "import matplotlib.pyplot as plt "
   ]
  },
  {
   "cell_type": "code",
   "execution_count": 11,
   "metadata": {},
   "outputs": [],
   "source": [
    "\n",
    "start = date(2019, 9, 10 ) #from sep 13 to oct 19 to demonstrate repo rate surge\n",
    "end = date(2019, 10, 10)"
   ]
  },
  {
   "cell_type": "code",
   "execution_count": 12,
   "metadata": {},
   "outputs": [],
   "source": [
    "sofr = pdr.get_data_fred('SOFR', start, end) #reading fred SOFR data with the SOFR series code"
   ]
  },
  {
   "cell_type": "code",
   "execution_count": 13,
   "metadata": {},
   "outputs": [
    {
     "data": {
      "text/html": [
       "<div>\n",
       "<style scoped>\n",
       "    .dataframe tbody tr th:only-of-type {\n",
       "        vertical-align: middle;\n",
       "    }\n",
       "\n",
       "    .dataframe tbody tr th {\n",
       "        vertical-align: top;\n",
       "    }\n",
       "\n",
       "    .dataframe thead th {\n",
       "        text-align: right;\n",
       "    }\n",
       "</style>\n",
       "<table border=\"1\" class=\"dataframe\">\n",
       "  <thead>\n",
       "    <tr style=\"text-align: right;\">\n",
       "      <th></th>\n",
       "      <th>SOFR</th>\n",
       "    </tr>\n",
       "    <tr>\n",
       "      <th>DATE</th>\n",
       "      <th></th>\n",
       "    </tr>\n",
       "  </thead>\n",
       "  <tbody>\n",
       "    <tr>\n",
       "      <th>2019-09-10</th>\n",
       "      <td>2.14</td>\n",
       "    </tr>\n",
       "    <tr>\n",
       "      <th>2019-09-11</th>\n",
       "      <td>2.15</td>\n",
       "    </tr>\n",
       "    <tr>\n",
       "      <th>2019-09-12</th>\n",
       "      <td>2.20</td>\n",
       "    </tr>\n",
       "    <tr>\n",
       "      <th>2019-09-13</th>\n",
       "      <td>2.20</td>\n",
       "    </tr>\n",
       "    <tr>\n",
       "      <th>2019-09-16</th>\n",
       "      <td>2.43</td>\n",
       "    </tr>\n",
       "  </tbody>\n",
       "</table>\n",
       "</div>"
      ],
      "text/plain": [
       "            SOFR\n",
       "DATE            \n",
       "2019-09-10  2.14\n",
       "2019-09-11  2.15\n",
       "2019-09-12  2.20\n",
       "2019-09-13  2.20\n",
       "2019-09-16  2.43"
      ]
     },
     "execution_count": 13,
     "metadata": {},
     "output_type": "execute_result"
    }
   ],
   "source": [
    "sofr.head() "
   ]
  },
  {
   "cell_type": "code",
   "execution_count": 14,
   "metadata": {},
   "outputs": [
    {
     "data": {
      "text/plain": [
       "DatetimeIndex(['2019-09-10', '2019-09-11', '2019-09-12', '2019-09-13',\n",
       "               '2019-09-16', '2019-09-17', '2019-09-18', '2019-09-19',\n",
       "               '2019-09-20', '2019-09-23', '2019-09-24', '2019-09-25',\n",
       "               '2019-09-26', '2019-09-27', '2019-09-30', '2019-10-01',\n",
       "               '2019-10-02', '2019-10-03', '2019-10-04', '2019-10-07',\n",
       "               '2019-10-08', '2019-10-09', '2019-10-10'],\n",
       "              dtype='datetime64[ns]', name='DATE', freq=None)"
      ]
     },
     "execution_count": 14,
     "metadata": {},
     "output_type": "execute_result"
    }
   ],
   "source": [
    "sofr.index # indexes are usually numerical numbers in ascending order starting from 0 to help you pick specific elements\n",
    "           # usually: sofr[0]\n",
    "           # here, indexes are the dates"
   ]
  },
  {
   "cell_type": "code",
   "execution_count": 15,
   "metadata": {},
   "outputs": [
    {
     "name": "stdout",
     "output_type": "stream",
     "text": [
      "<class 'pandas.core.frame.DataFrame'>\n",
      "DatetimeIndex: 23 entries, 2019-09-10 to 2019-10-10\n",
      "Data columns (total 1 columns):\n",
      " #   Column  Non-Null Count  Dtype  \n",
      "---  ------  --------------  -----  \n",
      " 0   SOFR    23 non-null     float64\n",
      "dtypes: float64(1)\n",
      "memory usage: 368.0 bytes\n"
     ]
    }
   ],
   "source": [
    "sofr.info() #exploring the dataframe"
   ]
  },
  {
   "cell_type": "code",
   "execution_count": 16,
   "metadata": {},
   "outputs": [
    {
     "data": {
      "image/png": "[encoded data removed]",
      "text/plain": [
       "<Figure size 1440x720 with 1 Axes>"
      ]
     },
     "metadata": {
      "needs_background": "light"
     },
     "output_type": "display_data"
    }
   ],
   "source": [
    "plt.figure(figsize=(20,10)) #width and height of figure respectively\n",
    "plt.plot(sofr.index, sofr.SOFR, color ='green')  #creating the chars with x as the date which is an index, and the y as the SOFR\n",
    "plt.title('September Surge of the Secured Overnight Financing Rate', fontsize=15)\n",
    "plt.ylabel('Percent', fontsize=15)\n",
    "#plt.axvline(sofr.index[5],color='red') # vertical line on the chart \n",
    "#plt.axhline(3.5) # horizontal line on the chart \n",
    "plt.show()"
   ]
  },
  {
   "cell_type": "code",
   "execution_count": 18,
   "metadata": {},
   "outputs": [],
   "source": [
    "volatility = pd.read_excel(r'C:\\Users\\nuham\\Downloads\\Python dowloaded files\\sofr and libor.xlsx', sheet_name = 'Geometric Mean', na_values = 'n/a')  #reading the date of the SOFR and libor rates and their geometric mean\n"
   ]
  },
  {
   "cell_type": "code",
   "execution_count": 19,
   "metadata": {},
   "outputs": [
    {
     "data": {
      "text/html": [
       "<div>\n",
       "<style scoped>\n",
       "    .dataframe tbody tr th:only-of-type {\n",
       "        vertical-align: middle;\n",
       "    }\n",
       "\n",
       "    .dataframe tbody tr th {\n",
       "        vertical-align: top;\n",
       "    }\n",
       "\n",
       "    .dataframe thead th {\n",
       "        text-align: right;\n",
       "    }\n",
       "</style>\n",
       "<table border=\"1\" class=\"dataframe\">\n",
       "  <thead>\n",
       "    <tr style=\"text-align: right;\">\n",
       "      <th></th>\n",
       "      <th>3-Month Geometric Average of Overnight Treasury Repo Rates</th>\n",
       "      <th>Unnamed: 1</th>\n",
       "      <th>Unnamed: 2</th>\n",
       "      <th>Unnamed: 3</th>\n",
       "      <th>Unnamed: 4</th>\n",
       "      <th>Unnamed: 5</th>\n",
       "      <th>Unnamed: 6</th>\n",
       "      <th>Unnamed: 7</th>\n",
       "    </tr>\n",
       "  </thead>\n",
       "  <tbody>\n",
       "    <tr>\n",
       "      <th>0</th>\n",
       "      <td>Date</td>\n",
       "      <td>Tri-Party General Collateral Rate</td>\n",
       "      <td>Broad General Collateral Rate</td>\n",
       "      <td>Secured Overnight Financing Rate</td>\n",
       "      <td>NaN</td>\n",
       "      <td>Series</td>\n",
       "      <td>Description</td>\n",
       "      <td>Units</td>\n",
       "    </tr>\n",
       "    <tr>\n",
       "      <th>1</th>\n",
       "      <td>2014-11-20 00:00:00</td>\n",
       "      <td>5</td>\n",
       "      <td>5</td>\n",
       "      <td>6</td>\n",
       "      <td>NaN</td>\n",
       "      <td>Tri-Party General Collateral Rate</td>\n",
       "      <td>Time-series of overnight Treasury Tri-Party ex...</td>\n",
       "      <td>Basis points</td>\n",
       "    </tr>\n",
       "    <tr>\n",
       "      <th>2</th>\n",
       "      <td>2014-11-21 00:00:00</td>\n",
       "      <td>5</td>\n",
       "      <td>5</td>\n",
       "      <td>6</td>\n",
       "      <td>NaN</td>\n",
       "      <td>Broad General Collateral Rate</td>\n",
       "      <td>Time-series of overnight Treasury Tri-Party in...</td>\n",
       "      <td>Basis points</td>\n",
       "    </tr>\n",
       "    <tr>\n",
       "      <th>3</th>\n",
       "      <td>2014-11-24 00:00:00</td>\n",
       "      <td>5</td>\n",
       "      <td>5</td>\n",
       "      <td>6</td>\n",
       "      <td>NaN</td>\n",
       "      <td>Secured Overnight Financing Rate</td>\n",
       "      <td>Time-series of overnight Treasury Tri-Party in...</td>\n",
       "      <td>Basis points</td>\n",
       "    </tr>\n",
       "    <tr>\n",
       "      <th>4</th>\n",
       "      <td>2014-11-25 00:00:00</td>\n",
       "      <td>5</td>\n",
       "      <td>5</td>\n",
       "      <td>6</td>\n",
       "      <td>NaN</td>\n",
       "      <td>NaN</td>\n",
       "      <td>NaN</td>\n",
       "      <td>NaN</td>\n",
       "    </tr>\n",
       "  </tbody>\n",
       "</table>\n",
       "</div>"
      ],
      "text/plain": [
       "  3-Month Geometric Average of Overnight Treasury Repo Rates  \\\n",
       "0                                               Date           \n",
       "1                                2014-11-20 00:00:00           \n",
       "2                                2014-11-21 00:00:00           \n",
       "3                                2014-11-24 00:00:00           \n",
       "4                                2014-11-25 00:00:00           \n",
       "\n",
       "                          Unnamed: 1                     Unnamed: 2  \\\n",
       "0  Tri-Party General Collateral Rate  Broad General Collateral Rate   \n",
       "1                                  5                              5   \n",
       "2                                  5                              5   \n",
       "3                                  5                              5   \n",
       "4                                  5                              5   \n",
       "\n",
       "                         Unnamed: 3  Unnamed: 4  \\\n",
       "0  Secured Overnight Financing Rate         NaN   \n",
       "1                                 6         NaN   \n",
       "2                                 6         NaN   \n",
       "3                                 6         NaN   \n",
       "4                                 6         NaN   \n",
       "\n",
       "                          Unnamed: 5  \\\n",
       "0                            Series    \n",
       "1  Tri-Party General Collateral Rate   \n",
       "2      Broad General Collateral Rate   \n",
       "3   Secured Overnight Financing Rate   \n",
       "4                                NaN   \n",
       "\n",
       "                                          Unnamed: 6    Unnamed: 7  \n",
       "0                                        Description         Units  \n",
       "1  Time-series of overnight Treasury Tri-Party ex...  Basis points  \n",
       "2  Time-series of overnight Treasury Tri-Party in...  Basis points  \n",
       "3  Time-series of overnight Treasury Tri-Party in...  Basis points  \n",
       "4                                                NaN           NaN  "
      ]
     },
     "execution_count": 19,
     "metadata": {},
     "output_type": "execute_result"
    }
   ],
   "source": [
    "volatility.head() #exploring\n",
    "\n"
   ]
  },
  {
   "cell_type": "code",
   "execution_count": 20,
   "metadata": {},
   "outputs": [
    {
     "data": {
      "text/html": [
       "<div>\n",
       "<style scoped>\n",
       "    .dataframe tbody tr th:only-of-type {\n",
       "        vertical-align: middle;\n",
       "    }\n",
       "\n",
       "    .dataframe tbody tr th {\n",
       "        vertical-align: top;\n",
       "    }\n",
       "\n",
       "    .dataframe thead th {\n",
       "        text-align: right;\n",
       "    }\n",
       "</style>\n",
       "<table border=\"1\" class=\"dataframe\">\n",
       "  <thead>\n",
       "    <tr style=\"text-align: right;\">\n",
       "      <th></th>\n",
       "      <th>DATE</th>\n",
       "      <th>Tri-Party_General_Collateral_Rate</th>\n",
       "      <th>Broad_General_Collateral_Rate</th>\n",
       "      <th>SOFR</th>\n",
       "      <th>Unnamed: 4</th>\n",
       "      <th>Unnamed: 5</th>\n",
       "      <th>Unnamed: 6</th>\n",
       "      <th>Unnamed: 7</th>\n",
       "    </tr>\n",
       "  </thead>\n",
       "  <tbody>\n",
       "    <tr>\n",
       "      <th>0</th>\n",
       "      <td>Date</td>\n",
       "      <td>Tri-Party General Collateral Rate</td>\n",
       "      <td>Broad General Collateral Rate</td>\n",
       "      <td>Secured Overnight Financing Rate</td>\n",
       "      <td>NaN</td>\n",
       "      <td>Series</td>\n",
       "      <td>Description</td>\n",
       "      <td>Units</td>\n",
       "    </tr>\n",
       "    <tr>\n",
       "      <th>1</th>\n",
       "      <td>2014-11-20 00:00:00</td>\n",
       "      <td>5</td>\n",
       "      <td>5</td>\n",
       "      <td>6</td>\n",
       "      <td>NaN</td>\n",
       "      <td>Tri-Party General Collateral Rate</td>\n",
       "      <td>Time-series of overnight Treasury Tri-Party ex...</td>\n",
       "      <td>Basis points</td>\n",
       "    </tr>\n",
       "    <tr>\n",
       "      <th>2</th>\n",
       "      <td>2014-11-21 00:00:00</td>\n",
       "      <td>5</td>\n",
       "      <td>5</td>\n",
       "      <td>6</td>\n",
       "      <td>NaN</td>\n",
       "      <td>Broad General Collateral Rate</td>\n",
       "      <td>Time-series of overnight Treasury Tri-Party in...</td>\n",
       "      <td>Basis points</td>\n",
       "    </tr>\n",
       "    <tr>\n",
       "      <th>3</th>\n",
       "      <td>2014-11-24 00:00:00</td>\n",
       "      <td>5</td>\n",
       "      <td>5</td>\n",
       "      <td>6</td>\n",
       "      <td>NaN</td>\n",
       "      <td>Secured Overnight Financing Rate</td>\n",
       "      <td>Time-series of overnight Treasury Tri-Party in...</td>\n",
       "      <td>Basis points</td>\n",
       "    </tr>\n",
       "    <tr>\n",
       "      <th>4</th>\n",
       "      <td>2014-11-25 00:00:00</td>\n",
       "      <td>5</td>\n",
       "      <td>5</td>\n",
       "      <td>6</td>\n",
       "      <td>NaN</td>\n",
       "      <td>NaN</td>\n",
       "      <td>NaN</td>\n",
       "      <td>NaN</td>\n",
       "    </tr>\n",
       "    <tr>\n",
       "      <th>...</th>\n",
       "      <td>...</td>\n",
       "      <td>...</td>\n",
       "      <td>...</td>\n",
       "      <td>...</td>\n",
       "      <td>...</td>\n",
       "      <td>...</td>\n",
       "      <td>...</td>\n",
       "      <td>...</td>\n",
       "    </tr>\n",
       "    <tr>\n",
       "      <th>722</th>\n",
       "      <td>2017-10-11 00:00:00</td>\n",
       "      <td>102</td>\n",
       "      <td>102</td>\n",
       "      <td>105</td>\n",
       "      <td>NaN</td>\n",
       "      <td>NaN</td>\n",
       "      <td>NaN</td>\n",
       "      <td>NaN</td>\n",
       "    </tr>\n",
       "    <tr>\n",
       "      <th>723</th>\n",
       "      <td>2017-10-12 00:00:00</td>\n",
       "      <td>102</td>\n",
       "      <td>102</td>\n",
       "      <td>105</td>\n",
       "      <td>NaN</td>\n",
       "      <td>NaN</td>\n",
       "      <td>NaN</td>\n",
       "      <td>NaN</td>\n",
       "    </tr>\n",
       "    <tr>\n",
       "      <th>724</th>\n",
       "      <td>2017-10-13 00:00:00</td>\n",
       "      <td>102</td>\n",
       "      <td>102</td>\n",
       "      <td>105</td>\n",
       "      <td>NaN</td>\n",
       "      <td>NaN</td>\n",
       "      <td>NaN</td>\n",
       "      <td>NaN</td>\n",
       "    </tr>\n",
       "    <tr>\n",
       "      <th>725</th>\n",
       "      <td>2017-10-16 00:00:00</td>\n",
       "      <td>102</td>\n",
       "      <td>102</td>\n",
       "      <td>105</td>\n",
       "      <td>NaN</td>\n",
       "      <td>NaN</td>\n",
       "      <td>NaN</td>\n",
       "      <td>NaN</td>\n",
       "    </tr>\n",
       "    <tr>\n",
       "      <th>726</th>\n",
       "      <td>2017-10-17 00:00:00</td>\n",
       "      <td>102</td>\n",
       "      <td>102</td>\n",
       "      <td>105</td>\n",
       "      <td>NaN</td>\n",
       "      <td>NaN</td>\n",
       "      <td>NaN</td>\n",
       "      <td>NaN</td>\n",
       "    </tr>\n",
       "  </tbody>\n",
       "</table>\n",
       "<p>727 rows × 8 columns</p>\n",
       "</div>"
      ],
      "text/plain": [
       "                    DATE  Tri-Party_General_Collateral_Rate  \\\n",
       "0                   Date  Tri-Party General Collateral Rate   \n",
       "1    2014-11-20 00:00:00                                  5   \n",
       "2    2014-11-21 00:00:00                                  5   \n",
       "3    2014-11-24 00:00:00                                  5   \n",
       "4    2014-11-25 00:00:00                                  5   \n",
       "..                   ...                                ...   \n",
       "722  2017-10-11 00:00:00                                102   \n",
       "723  2017-10-12 00:00:00                                102   \n",
       "724  2017-10-13 00:00:00                                102   \n",
       "725  2017-10-16 00:00:00                                102   \n",
       "726  2017-10-17 00:00:00                                102   \n",
       "\n",
       "     Broad_General_Collateral_Rate                              SOFR  \\\n",
       "0    Broad General Collateral Rate  Secured Overnight Financing Rate   \n",
       "1                                5                                 6   \n",
       "2                                5                                 6   \n",
       "3                                5                                 6   \n",
       "4                                5                                 6   \n",
       "..                             ...                               ...   \n",
       "722                            102                               105   \n",
       "723                            102                               105   \n",
       "724                            102                               105   \n",
       "725                            102                               105   \n",
       "726                            102                               105   \n",
       "\n",
       "     Unnamed: 4                         Unnamed: 5  \\\n",
       "0           NaN                            Series    \n",
       "1           NaN  Tri-Party General Collateral Rate   \n",
       "2           NaN      Broad General Collateral Rate   \n",
       "3           NaN   Secured Overnight Financing Rate   \n",
       "4           NaN                                NaN   \n",
       "..          ...                                ...   \n",
       "722         NaN                                NaN   \n",
       "723         NaN                                NaN   \n",
       "724         NaN                                NaN   \n",
       "725         NaN                                NaN   \n",
       "726         NaN                                NaN   \n",
       "\n",
       "                                            Unnamed: 6    Unnamed: 7  \n",
       "0                                          Description         Units  \n",
       "1    Time-series of overnight Treasury Tri-Party ex...  Basis points  \n",
       "2    Time-series of overnight Treasury Tri-Party in...  Basis points  \n",
       "3    Time-series of overnight Treasury Tri-Party in...  Basis points  \n",
       "4                                                  NaN           NaN  \n",
       "..                                                 ...           ...  \n",
       "722                                                NaN           NaN  \n",
       "723                                                NaN           NaN  \n",
       "724                                                NaN           NaN  \n",
       "725                                                NaN           NaN  \n",
       "726                                                NaN           NaN  \n",
       "\n",
       "[727 rows x 8 columns]"
      ]
     },
     "execution_count": 20,
     "metadata": {},
     "output_type": "execute_result"
    }
   ],
   "source": [
    "volatility_new = volatility.rename(columns={ \"3-Month Geometric Average of Overnight Treasury Repo Rates\": \"DATE\", \"Unnamed: 1\": \"Tri-Party_General_Collateral_Rate\", \"Unnamed: 2\": \"Broad_General_Collateral_Rate\", \"Unnamed: 3\": \"SOFR\"})\n",
    "# change the column names \n",
    "volatility_new\n"
   ]
  },
  {
   "cell_type": "code",
   "execution_count": 21,
   "metadata": {},
   "outputs": [],
   "source": [
    "volatility_new2 = volatility_new.drop([0]) #dropped the first row, so now index starts with [1]\n"
   ]
  },
  {
   "cell_type": "code",
   "execution_count": 22,
   "metadata": {
    "scrolled": true
   },
   "outputs": [],
   "source": [
    "volatility_new3 = volatility_new2.reset_index() #need index reframing b/c it starts from the title instead of the first row \n"
   ]
  },
  {
   "cell_type": "code",
   "execution_count": 23,
   "metadata": {},
   "outputs": [],
   "source": [
    "volatility_new3.set_index('DATE', inplace=True, drop=True)   #making the timestamp an index to make it similar to data structure of Libor fred data\n"
   ]
  },
  {
   "cell_type": "code",
   "execution_count": 24,
   "metadata": {},
   "outputs": [
    {
     "data": {
      "text/html": [
       "<div>\n",
       "<style scoped>\n",
       "    .dataframe tbody tr th:only-of-type {\n",
       "        vertical-align: middle;\n",
       "    }\n",
       "\n",
       "    .dataframe tbody tr th {\n",
       "        vertical-align: top;\n",
       "    }\n",
       "\n",
       "    .dataframe thead th {\n",
       "        text-align: right;\n",
       "    }\n",
       "</style>\n",
       "<table border=\"1\" class=\"dataframe\">\n",
       "  <thead>\n",
       "    <tr style=\"text-align: right;\">\n",
       "      <th></th>\n",
       "      <th>index</th>\n",
       "      <th>Tri-Party_General_Collateral_Rate</th>\n",
       "      <th>Broad_General_Collateral_Rate</th>\n",
       "      <th>SOFR</th>\n",
       "      <th>Unnamed: 4</th>\n",
       "      <th>Unnamed: 5</th>\n",
       "      <th>Unnamed: 6</th>\n",
       "      <th>Unnamed: 7</th>\n",
       "    </tr>\n",
       "    <tr>\n",
       "      <th>DATE</th>\n",
       "      <th></th>\n",
       "      <th></th>\n",
       "      <th></th>\n",
       "      <th></th>\n",
       "      <th></th>\n",
       "      <th></th>\n",
       "      <th></th>\n",
       "      <th></th>\n",
       "    </tr>\n",
       "  </thead>\n",
       "  <tbody>\n",
       "    <tr>\n",
       "      <th>2017-10-11</th>\n",
       "      <td>722</td>\n",
       "      <td>102</td>\n",
       "      <td>102</td>\n",
       "      <td>105</td>\n",
       "      <td>NaN</td>\n",
       "      <td>NaN</td>\n",
       "      <td>NaN</td>\n",
       "      <td>NaN</td>\n",
       "    </tr>\n",
       "    <tr>\n",
       "      <th>2017-10-12</th>\n",
       "      <td>723</td>\n",
       "      <td>102</td>\n",
       "      <td>102</td>\n",
       "      <td>105</td>\n",
       "      <td>NaN</td>\n",
       "      <td>NaN</td>\n",
       "      <td>NaN</td>\n",
       "      <td>NaN</td>\n",
       "    </tr>\n",
       "    <tr>\n",
       "      <th>2017-10-13</th>\n",
       "      <td>724</td>\n",
       "      <td>102</td>\n",
       "      <td>102</td>\n",
       "      <td>105</td>\n",
       "      <td>NaN</td>\n",
       "      <td>NaN</td>\n",
       "      <td>NaN</td>\n",
       "      <td>NaN</td>\n",
       "    </tr>\n",
       "    <tr>\n",
       "      <th>2017-10-16</th>\n",
       "      <td>725</td>\n",
       "      <td>102</td>\n",
       "      <td>102</td>\n",
       "      <td>105</td>\n",
       "      <td>NaN</td>\n",
       "      <td>NaN</td>\n",
       "      <td>NaN</td>\n",
       "      <td>NaN</td>\n",
       "    </tr>\n",
       "    <tr>\n",
       "      <th>2017-10-17</th>\n",
       "      <td>726</td>\n",
       "      <td>102</td>\n",
       "      <td>102</td>\n",
       "      <td>105</td>\n",
       "      <td>NaN</td>\n",
       "      <td>NaN</td>\n",
       "      <td>NaN</td>\n",
       "      <td>NaN</td>\n",
       "    </tr>\n",
       "  </tbody>\n",
       "</table>\n",
       "</div>"
      ],
      "text/plain": [
       "            index Tri-Party_General_Collateral_Rate  \\\n",
       "DATE                                                  \n",
       "2017-10-11    722                               102   \n",
       "2017-10-12    723                               102   \n",
       "2017-10-13    724                               102   \n",
       "2017-10-16    725                               102   \n",
       "2017-10-17    726                               102   \n",
       "\n",
       "           Broad_General_Collateral_Rate SOFR  Unnamed: 4 Unnamed: 5  \\\n",
       "DATE                                                                   \n",
       "2017-10-11                           102  105         NaN        NaN   \n",
       "2017-10-12                           102  105         NaN        NaN   \n",
       "2017-10-13                           102  105         NaN        NaN   \n",
       "2017-10-16                           102  105         NaN        NaN   \n",
       "2017-10-17                           102  105         NaN        NaN   \n",
       "\n",
       "           Unnamed: 6 Unnamed: 7  \n",
       "DATE                              \n",
       "2017-10-11        NaN        NaN  \n",
       "2017-10-12        NaN        NaN  \n",
       "2017-10-13        NaN        NaN  \n",
       "2017-10-16        NaN        NaN  \n",
       "2017-10-17        NaN        NaN  "
      ]
     },
     "execution_count": 24,
     "metadata": {},
     "output_type": "execute_result"
    }
   ],
   "source": [
    "volatility_new3.tail() #erase, just for checking purposes"
   ]
  },
  {
   "cell_type": "code",
   "execution_count": 49,
   "metadata": {},
   "outputs": [],
   "source": [
    "\n",
    "start_date = date(2014,11,20) #aligning date with corresponding SOFR date collected by the https://www.sec.gov/spotlight/fixed-income-advisory-committee/arrc-second-report-041519.pdf\n",
    "end_date = date(2017,10,17)\n"
   ]
  },
  {
   "cell_type": "code",
   "execution_count": 100,
   "metadata": {},
   "outputs": [],
   "source": [
    "Libor = pdr.get_data_fred( 'USD3MTD156N', start_date, end_date) #getting 3-month libor based on U.S. Dollar "
   ]
  },
  {
   "cell_type": "code",
   "execution_count": 101,
   "metadata": {},
   "outputs": [],
   "source": [
    "Libor = Libor.rename(columns={'USD3MTD156N': 'LIBOR'})"
   ]
  },
  {
   "cell_type": "code",
   "execution_count": 102,
   "metadata": {},
   "outputs": [],
   "source": [
    "SOFR_Libor = pd.concat([volatility_new3,Libor], axis = 1) #horizontal stacking of the SOFR and Libor dataframes for plotting purposes"
   ]
  },
  {
   "cell_type": "code",
   "execution_count": 103,
   "metadata": {},
   "outputs": [
    {
     "data": {
      "text/plain": [
       "DATE\n",
       "2014-11-20      6\n",
       "2014-11-21      6\n",
       "2014-11-24      6\n",
       "2014-11-25      6\n",
       "2014-11-26      6\n",
       "2014-11-27    NaN\n",
       "2014-11-28      6\n",
       "2014-12-01      6\n",
       "2014-12-02      6\n",
       "2014-12-03      6\n",
       "2014-12-04      6\n",
       "2014-12-05      7\n",
       "2014-12-08      7\n",
       "2014-12-09      7\n",
       "2014-12-10      7\n",
       "2014-12-11      7\n",
       "2014-12-12      7\n",
       "2014-12-15      7\n",
       "2014-12-16      7\n",
       "2014-12-17      7\n",
       "Freq: B, Name: SOFR, dtype: object"
      ]
     },
     "execution_count": 103,
     "metadata": {},
     "output_type": "execute_result"
    }
   ],
   "source": [
    "SOFR_Libor['SOFR'].head(20) #checking the SOFR column, seems like numbers should be converted into decimal points to match LIBOR column"
   ]
  },
  {
   "cell_type": "code",
   "execution_count": 104,
   "metadata": {},
   "outputs": [
    {
     "data": {
      "text/plain": [
       "DATE\n",
       "2014-11-20    0.06\n",
       "2014-11-21    0.06\n",
       "2014-11-24    0.06\n",
       "2014-11-25    0.06\n",
       "2014-11-26    0.06\n",
       "2014-11-27     NaN\n",
       "2014-11-28    0.06\n",
       "2014-12-01    0.06\n",
       "2014-12-02    0.06\n",
       "2014-12-03    0.06\n",
       "2014-12-04    0.06\n",
       "2014-12-05    0.07\n",
       "2014-12-08    0.07\n",
       "2014-12-09    0.07\n",
       "2014-12-10    0.07\n",
       "2014-12-11    0.07\n",
       "2014-12-12    0.07\n",
       "2014-12-15    0.07\n",
       "2014-12-16    0.07\n",
       "2014-12-17    0.07\n",
       "Freq: B, Name: SOFR, dtype: float64"
      ]
     },
     "execution_count": 104,
     "metadata": {},
     "output_type": "execute_result"
    }
   ],
   "source": [
    "SOFR_Libor['SOFR'] = SOFR_Libor['SOFR'].astype(float)  #changing the dtype of SOFR column to float so I can divide by 100 and round to 2 dp\n",
    "SOFR_Libor['SOFR'] = SOFR_Libor['SOFR'].div(100).round(2) #dividing SOFR column by 100, then rounding to 2 decimal points \n",
    "SOFR_Libor['SOFR'].head(20) #checking the new SOFR column "
   ]
  },
  {
   "cell_type": "code",
   "execution_count": 138,
   "metadata": {},
   "outputs": [
    {
     "data": {
      "image/png": "[encoded data removed]",
      "text/plain": [
       "<Figure size 1440x720 with 1 Axes>"
      ]
     },
     "metadata": {
      "needs_background": "light"
     },
     "output_type": "display_data"
    }
   ],
   "source": [
    "plt.figure(figsize=(20,10)) #plt. is best for more flexible editing of individual features \n",
    "plt.plot(SOFR_Libor.index, SOFR_Libor['SOFR'], label='3-month geometric mean of SOFR', color = 'green')\n",
    "plt.plot(SOFR_Libor.index, SOFR_Libor['LIBOR'], label='Libor', color = 'orange')\n",
    "plt.xlabel('DATE')\n",
    "plt.title('Averages of SOFR are Less Volatile than LIBOR', fontsize = 15)\n",
    "plt.legend(loc='best', fontsize=15) \n",
    "plt.show()"
   ]
  },
  {
   "cell_type": "code",
   "execution_count": null,
   "metadata": {},
   "outputs": [],
   "source": []
  }
 ],
 "metadata": {
  "kernelspec": {
   "display_name": "Python 3",
   "language": "python",
   "name": "python3"
  },
  "language_info": {
   "codemirror_mode": {
    "name": "ipython",
    "version": 3
   },
   "file_extension": ".py",
   "mimetype": "text/x-python",
   "name": "python",
   "nbconvert_exporter": "python",
   "pygments_lexer": "ipython3",
   "version": "3.7.6"
  }
 },
 "nbformat": 4,
 "nbformat_minor": 4
}
